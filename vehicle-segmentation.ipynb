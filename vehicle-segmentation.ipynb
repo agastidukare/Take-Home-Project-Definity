{
 "cells": [
  {
   "cell_type": "markdown",
   "metadata": {},
   "source": [
    "# Vehicle Segmentation"
   ]
  },
  {
   "cell_type": "markdown",
   "metadata": {},
   "source": [
    "In this notebook, we are going to address the **Vehicle Segmentation** task using *Poland cars for sale dataset (200k adverts)* from Kaggle. \n",
    "\n",
    "**In order to smooth run of this notebook, make sure you have csv for the car dataset stored in the same folder as this notebook in your repo.**"
   ]
  },
  {
   "cell_type": "markdown",
   "metadata": {},
   "source": [
    "## Library & Data Import"
   ]
  },
  {
   "cell_type": "code",
   "execution_count": 1,
   "metadata": {},
   "outputs": [],
   "source": [
    "#### supress warnings ####\n",
    "import warnings\n",
    "warnings.filterwarnings('ignore')\n",
    "\n",
    "#### Import relevant libraries\n",
    "import numpy as np\n",
    "import pandas as pd\n",
    "import seaborn as sns\n",
    "from ast import literal_eval\n",
    "import matplotlib.pyplot as plt\n",
    "from sklearn.cluster import KMeans\n",
    "import matplotlib.patches as mpatches\n",
    "from sklearn.decomposition import PCA\n",
    "from sklearn.mixture import GaussianMixture\n",
    "from sklearn.metrics import silhouette_score\n",
    "from sklearn.preprocessing import LabelEncoder\n",
    "from sklearn.metrics import davies_bouldin_score\n",
    "from sklearn.preprocessing import StandardScaler\n",
    "from matplotlib.ticker import FuncFormatter,ScalarFormatter\n",
    "\n",
    "#### Remove Scientic Notation While Displaying Pandas Data\n",
    "pd.set_option('display.float_format', lambda x: '%.3f' % x)"
   ]
  },
  {
   "cell_type": "code",
   "execution_count": 2,
   "metadata": {},
   "outputs": [
    {
     "data": {
      "text/html": [
       "<div>\n",
       "<style scoped>\n",
       "    .dataframe tbody tr th:only-of-type {\n",
       "        vertical-align: middle;\n",
       "    }\n",
       "\n",
       "    .dataframe tbody tr th {\n",
       "        vertical-align: top;\n",
       "    }\n",
       "\n",
       "    .dataframe thead th {\n",
       "        text-align: right;\n",
       "    }\n",
       "</style>\n",
       "<table border=\"1\" class=\"dataframe\">\n",
       "  <thead>\n",
       "    <tr style=\"text-align: right;\">\n",
       "      <th></th>\n",
       "      <th>Index</th>\n",
       "      <th>Price</th>\n",
       "      <th>Currency</th>\n",
       "      <th>Condition</th>\n",
       "      <th>Vehicle_brand</th>\n",
       "      <th>Vehicle_model</th>\n",
       "      <th>Vehicle_version</th>\n",
       "      <th>Vehicle_generation</th>\n",
       "      <th>Production_year</th>\n",
       "      <th>Mileage_km</th>\n",
       "      <th>...</th>\n",
       "      <th>Transmission</th>\n",
       "      <th>Type</th>\n",
       "      <th>Doors_number</th>\n",
       "      <th>Colour</th>\n",
       "      <th>Origin_country</th>\n",
       "      <th>First_owner</th>\n",
       "      <th>First_registration_date</th>\n",
       "      <th>Offer_publication_date</th>\n",
       "      <th>Offer_location</th>\n",
       "      <th>Features</th>\n",
       "    </tr>\n",
       "  </thead>\n",
       "  <tbody>\n",
       "    <tr>\n",
       "      <th>0</th>\n",
       "      <td>0</td>\n",
       "      <td>86200</td>\n",
       "      <td>PLN</td>\n",
       "      <td>New</td>\n",
       "      <td>Abarth</td>\n",
       "      <td>595</td>\n",
       "      <td>NaN</td>\n",
       "      <td>NaN</td>\n",
       "      <td>2021</td>\n",
       "      <td>1.000</td>\n",
       "      <td>...</td>\n",
       "      <td>Manual</td>\n",
       "      <td>small_cars</td>\n",
       "      <td>3.000</td>\n",
       "      <td>gray</td>\n",
       "      <td>NaN</td>\n",
       "      <td>NaN</td>\n",
       "      <td>NaN</td>\n",
       "      <td>04/05/2021</td>\n",
       "      <td>ul. Jubilerska 6 - 04-190 Warszawa, Mazowiecki...</td>\n",
       "      <td>[]</td>\n",
       "    </tr>\n",
       "    <tr>\n",
       "      <th>1</th>\n",
       "      <td>1</td>\n",
       "      <td>43500</td>\n",
       "      <td>PLN</td>\n",
       "      <td>Used</td>\n",
       "      <td>Abarth</td>\n",
       "      <td>Other</td>\n",
       "      <td>NaN</td>\n",
       "      <td>NaN</td>\n",
       "      <td>1974</td>\n",
       "      <td>59000.000</td>\n",
       "      <td>...</td>\n",
       "      <td>Manual</td>\n",
       "      <td>coupe</td>\n",
       "      <td>2.000</td>\n",
       "      <td>silver</td>\n",
       "      <td>NaN</td>\n",
       "      <td>NaN</td>\n",
       "      <td>NaN</td>\n",
       "      <td>03/05/2021</td>\n",
       "      <td>kanonierska12 - 04-425 Warszawa, Rembertów (Po...</td>\n",
       "      <td>[]</td>\n",
       "    </tr>\n",
       "    <tr>\n",
       "      <th>2</th>\n",
       "      <td>2</td>\n",
       "      <td>44900</td>\n",
       "      <td>PLN</td>\n",
       "      <td>Used</td>\n",
       "      <td>Abarth</td>\n",
       "      <td>500</td>\n",
       "      <td>NaN</td>\n",
       "      <td>NaN</td>\n",
       "      <td>2018</td>\n",
       "      <td>52000.000</td>\n",
       "      <td>...</td>\n",
       "      <td>Automatic</td>\n",
       "      <td>small_cars</td>\n",
       "      <td>3.000</td>\n",
       "      <td>silver</td>\n",
       "      <td>NaN</td>\n",
       "      <td>NaN</td>\n",
       "      <td>NaN</td>\n",
       "      <td>03/05/2021</td>\n",
       "      <td>Warszawa, Mazowieckie, Białołęka</td>\n",
       "      <td>['ABS', 'Electric front windows', 'Drivers air...</td>\n",
       "    </tr>\n",
       "  </tbody>\n",
       "</table>\n",
       "<p>3 rows × 25 columns</p>\n",
       "</div>"
      ],
      "text/plain": [
       "   Index  Price Currency Condition Vehicle_brand Vehicle_model  \\\n",
       "0      0  86200      PLN       New        Abarth           595   \n",
       "1      1  43500      PLN      Used        Abarth         Other   \n",
       "2      2  44900      PLN      Used        Abarth           500   \n",
       "\n",
       "  Vehicle_version Vehicle_generation  Production_year  Mileage_km  ...  \\\n",
       "0             NaN                NaN             2021       1.000  ...   \n",
       "1             NaN                NaN             1974   59000.000  ...   \n",
       "2             NaN                NaN             2018   52000.000  ...   \n",
       "\n",
       "   Transmission        Type Doors_number  Colour Origin_country First_owner  \\\n",
       "0        Manual  small_cars        3.000    gray            NaN         NaN   \n",
       "1        Manual       coupe        2.000  silver            NaN         NaN   \n",
       "2     Automatic  small_cars        3.000  silver            NaN         NaN   \n",
       "\n",
       "  First_registration_date  Offer_publication_date  \\\n",
       "0                     NaN              04/05/2021   \n",
       "1                     NaN              03/05/2021   \n",
       "2                     NaN              03/05/2021   \n",
       "\n",
       "                                      Offer_location  \\\n",
       "0  ul. Jubilerska 6 - 04-190 Warszawa, Mazowiecki...   \n",
       "1  kanonierska12 - 04-425 Warszawa, Rembertów (Po...   \n",
       "2                   Warszawa, Mazowieckie, Białołęka   \n",
       "\n",
       "                                            Features  \n",
       "0                                                 []  \n",
       "1                                                 []  \n",
       "2  ['ABS', 'Electric front windows', 'Drivers air...  \n",
       "\n",
       "[3 rows x 25 columns]"
      ]
     },
     "execution_count": 2,
     "metadata": {},
     "output_type": "execute_result"
    }
   ],
   "source": [
    "car_sales_df = pd.read_csv('Car_sale_ads.csv') #### Read csv as dataframe \n",
    "car_sales_df.head(3) "
   ]
  },
  {
   "cell_type": "markdown",
   "metadata": {},
   "source": [
    "## Functions"
   ]
  },
  {
   "cell_type": "code",
   "execution_count": 3,
   "metadata": {},
   "outputs": [],
   "source": [
    "def plot_hist(df,col,bins,x_label,kde=False,formatter=True,skewness=False):\n",
    "    \"\"\"This function plots histogram using seaborn for given dataframe column & granularity\n",
    "\n",
    "    Args:\n",
    "        df (dataframe): input dataframe\n",
    "        col (string): column name for which histogram is plotted\n",
    "        bins (integer): histogram binning granularity \n",
    "        x_label (string): X axis label \n",
    "        kde (boolean): Flag indicating addition of kde parameter\n",
    "        formatter (boolean): Flag to tweak scientific notation\n",
    "        skewness (boolean): Flag indication addition of skew calculation\n",
    "        \n",
    "    Returns:\n",
    "        skew: skew value of column distribution\n",
    "    \"\"\"    \n",
    "    plt.figure(figsize=(12, 8))  # Width: 12, Height: 8\n",
    "    sns.histplot(df[col],bins=bins, color='blue')\n",
    "    plt.title('Distribution of '+col)\n",
    "    plt.xlabel(x_label)\n",
    "    plt.ylabel('Frequency')\n",
    "\n",
    "    if(formatter):\n",
    "        # Remove scientific notation\n",
    "        ax = plt.gca()  # Get the current axes\n",
    "        ax.ticklabel_format(style='plain', axis='both')  # Set plain formatting for both axes\n",
    "\n",
    "    plt.xticks(rotation=90)\n",
    "    plt.show()\n",
    "    \n",
    "    return "
   ]
  },
  {
   "cell_type": "markdown",
   "metadata": {},
   "source": [
    "## Preliminary Data Check"
   ]
  },
  {
   "cell_type": "markdown",
   "metadata": {},
   "source": [
    "The goal of this section is to look at basic skeleton & overall stats of the dataset so we can plan the data cleaning & pre-processing tasks further."
   ]
  },
  {
   "cell_type": "code",
   "execution_count": 4,
   "metadata": {},
   "outputs": [
    {
     "name": "stdout",
     "output_type": "stream",
     "text": [
      "Rows: 208304, Columns: 25\n"
     ]
    }
   ],
   "source": [
    "#### Get Total Row & Column Count \n",
    "rows, columns = car_sales_df.shape\n",
    "print(f\"Rows: {rows}, Columns: {columns}\")"
   ]
  },
  {
   "cell_type": "code",
   "execution_count": 5,
   "metadata": {},
   "outputs": [
    {
     "data": {
      "text/plain": [
       "Index                        int64\n",
       "Price                        int64\n",
       "Currency                    object\n",
       "Condition                   object\n",
       "Vehicle_brand               object\n",
       "Vehicle_model               object\n",
       "Vehicle_version             object\n",
       "Vehicle_generation          object\n",
       "Production_year              int64\n",
       "Mileage_km                 float64\n",
       "Power_HP                   float64\n",
       "Displacement_cm3           float64\n",
       "Fuel_type                   object\n",
       "CO2_emissions              float64\n",
       "Drive                       object\n",
       "Transmission                object\n",
       "Type                        object\n",
       "Doors_number               float64\n",
       "Colour                      object\n",
       "Origin_country              object\n",
       "First_owner                 object\n",
       "First_registration_date     object\n",
       "Offer_publication_date      object\n",
       "Offer_location              object\n",
       "Features                    object\n",
       "dtype: object"
      ]
     },
     "execution_count": 5,
     "metadata": {},
     "output_type": "execute_result"
    }
   ],
   "source": [
    "car_sales_df.dtypes"
   ]
  },
  {
   "cell_type": "code",
   "execution_count": 6,
   "metadata": {},
   "outputs": [
    {
     "name": "stdout",
     "output_type": "stream",
     "text": [
      "Number of Integer Columns 3\n",
      "Number of Float Columns 5\n",
      "Number of Object Columns 17\n"
     ]
    }
   ],
   "source": [
    "#### Explore Columns & Data Types\n",
    "type_dct = {str(k): list(v) for k, v in car_sales_df.groupby(car_sales_df.dtypes, axis=1)}\n",
    "\n",
    "print('Number of Integer Columns', len(type_dct['int64']))\n",
    "print('Number of Float Columns', len(type_dct['float64']))\n",
    "print('Number of Object Columns', len(type_dct['object']))"
   ]
  },
  {
   "cell_type": "markdown",
   "metadata": {},
   "source": [
    "As we can see majority of the columns are object, followed by Integer & Float. Most probably, the object columns would be categorical columns & the other 2 would be ordinal & cardinal in nature."
   ]
  },
  {
   "cell_type": "code",
   "execution_count": 7,
   "metadata": {},
   "outputs": [
    {
     "data": {
      "text/html": [
       "<div>\n",
       "<style scoped>\n",
       "    .dataframe tbody tr th:only-of-type {\n",
       "        vertical-align: middle;\n",
       "    }\n",
       "\n",
       "    .dataframe tbody tr th {\n",
       "        vertical-align: top;\n",
       "    }\n",
       "\n",
       "    .dataframe thead th {\n",
       "        text-align: right;\n",
       "    }\n",
       "</style>\n",
       "<table border=\"1\" class=\"dataframe\">\n",
       "  <thead>\n",
       "    <tr style=\"text-align: right;\">\n",
       "      <th></th>\n",
       "      <th>Price</th>\n",
       "      <th>Production_year</th>\n",
       "      <th>Mileage_km</th>\n",
       "      <th>Power_HP</th>\n",
       "      <th>Displacement_cm3</th>\n",
       "      <th>CO2_emissions</th>\n",
       "      <th>Doors_number</th>\n",
       "    </tr>\n",
       "  </thead>\n",
       "  <tbody>\n",
       "    <tr>\n",
       "      <th>count</th>\n",
       "      <td>208304.000</td>\n",
       "      <td>208304.000</td>\n",
       "      <td>207321.000</td>\n",
       "      <td>207661.000</td>\n",
       "      <td>206338.000</td>\n",
       "      <td>94047.000</td>\n",
       "      <td>206817.000</td>\n",
       "    </tr>\n",
       "    <tr>\n",
       "      <th>mean</th>\n",
       "      <td>63053.834</td>\n",
       "      <td>2012.098</td>\n",
       "      <td>150276.764</td>\n",
       "      <td>151.836</td>\n",
       "      <td>1882.567</td>\n",
       "      <td>319156.381</td>\n",
       "      <td>4.637</td>\n",
       "    </tr>\n",
       "    <tr>\n",
       "      <th>std</th>\n",
       "      <td>86659.673</td>\n",
       "      <td>6.998</td>\n",
       "      <td>2937446.805</td>\n",
       "      <td>77.684</td>\n",
       "      <td>729.610</td>\n",
       "      <td>72913958.705</td>\n",
       "      <td>0.769</td>\n",
       "    </tr>\n",
       "    <tr>\n",
       "      <th>min</th>\n",
       "      <td>500.000</td>\n",
       "      <td>1915.000</td>\n",
       "      <td>1.000</td>\n",
       "      <td>1.000</td>\n",
       "      <td>400.000</td>\n",
       "      <td>1.000</td>\n",
       "      <td>1.000</td>\n",
       "    </tr>\n",
       "    <tr>\n",
       "      <th>25%</th>\n",
       "      <td>17800.000</td>\n",
       "      <td>2008.000</td>\n",
       "      <td>53000.000</td>\n",
       "      <td>105.000</td>\n",
       "      <td>1461.000</td>\n",
       "      <td>120.000</td>\n",
       "      <td>5.000</td>\n",
       "    </tr>\n",
       "    <tr>\n",
       "      <th>50%</th>\n",
       "      <td>35700.000</td>\n",
       "      <td>2013.000</td>\n",
       "      <td>144566.000</td>\n",
       "      <td>136.000</td>\n",
       "      <td>1798.000</td>\n",
       "      <td>140.000</td>\n",
       "      <td>5.000</td>\n",
       "    </tr>\n",
       "    <tr>\n",
       "      <th>75%</th>\n",
       "      <td>75990.000</td>\n",
       "      <td>2017.000</td>\n",
       "      <td>206000.000</td>\n",
       "      <td>172.000</td>\n",
       "      <td>1997.000</td>\n",
       "      <td>164.000</td>\n",
       "      <td>5.000</td>\n",
       "    </tr>\n",
       "    <tr>\n",
       "      <th>max</th>\n",
       "      <td>6999000.000</td>\n",
       "      <td>2021.000</td>\n",
       "      <td>1111111111.000</td>\n",
       "      <td>1398.000</td>\n",
       "      <td>8400.000</td>\n",
       "      <td>20000000000.000</td>\n",
       "      <td>55.000</td>\n",
       "    </tr>\n",
       "  </tbody>\n",
       "</table>\n",
       "</div>"
      ],
      "text/plain": [
       "            Price  Production_year     Mileage_km   Power_HP  \\\n",
       "count  208304.000       208304.000     207321.000 207661.000   \n",
       "mean    63053.834         2012.098     150276.764    151.836   \n",
       "std     86659.673            6.998    2937446.805     77.684   \n",
       "min       500.000         1915.000          1.000      1.000   \n",
       "25%     17800.000         2008.000      53000.000    105.000   \n",
       "50%     35700.000         2013.000     144566.000    136.000   \n",
       "75%     75990.000         2017.000     206000.000    172.000   \n",
       "max   6999000.000         2021.000 1111111111.000   1398.000   \n",
       "\n",
       "       Displacement_cm3   CO2_emissions  Doors_number  \n",
       "count        206338.000       94047.000    206817.000  \n",
       "mean           1882.567      319156.381         4.637  \n",
       "std             729.610    72913958.705         0.769  \n",
       "min             400.000           1.000         1.000  \n",
       "25%            1461.000         120.000         5.000  \n",
       "50%            1798.000         140.000         5.000  \n",
       "75%            1997.000         164.000         5.000  \n",
       "max            8400.000 20000000000.000        55.000  "
      ]
     },
     "execution_count": 7,
     "metadata": {},
     "output_type": "execute_result"
    }
   ],
   "source": [
    "#### Explore basic stats for int & float columns\n",
    "num_cols = list(type_dct['int64']) + list(type_dct['float64'])\n",
    "\n",
    "num_cols.pop(0) #### remove the Index column\n",
    "\n",
    "car_sales_df[num_cols].describe()"
   ]
  },
  {
   "cell_type": "markdown",
   "metadata": {},
   "source": [
    "We see not all columns have row count matching with total number count from Dataframe. **This indicates possibility of missing values (Null / NaNs)**\n",
    "\n",
    "The row count for both Integer columns, Price & Production_Year match with total row count of dataframe. This is not the case for any of the float columns. Thus, all the Null/NaN values would be present in Float & potentially Object type columns."
   ]
  },
  {
   "cell_type": "markdown",
   "metadata": {},
   "source": [
    "**First impressions:**\n",
    "\n",
    "\n",
    "- The **price column** is integer and is minimum of 500 & Max of 69,99,000. From the first inspection, both these values seem like outliers. \n",
    "\n",
    "- The **production_year** column is pretty straighforward, since it's time column, only min & max values are of significance & both of them are normal. 1915 seems to be vintage car & max value of 2021 indicates latest model.\n",
    "\n",
    "- For float columns, **Mileage_km & CO2_emissions** seem to have outliers for the max value. For all of the float columns except for Displacement_cm3, the min value is 1. The minimum of 1 might be corresponding to latest / new cars. Further inspection is needed.**\n",
    "\n",
    "- The **Feature_Count** columns we created has number of features for each row / car in dataframe. As expected the minimum for it is 0 & Maximum for it is 77. The max is not very high but can still be an outlier."
   ]
  },
  {
   "cell_type": "code",
   "execution_count": 8,
   "metadata": {},
   "outputs": [
    {
     "name": "stdout",
     "output_type": "stream",
     "text": [
      "Row Count With Negative 0\n"
     ]
    }
   ],
   "source": [
    "#### Check numerical columns for negative values anomalies\n",
    "\n",
    "car_sales_num_col_df = car_sales_df[num_cols]\n",
    "\n",
    "negative_rows = car_sales_num_col_df[(car_sales_num_col_df < 0).any(axis=1)]\n",
    "\n",
    "print('Row Count With Negative',len(negative_rows))"
   ]
  },
  {
   "cell_type": "markdown",
   "metadata": {},
   "source": [
    "**Conclusion:** The data seems to have missing entries as well as outliers for some of its columns. Further inspection is needed. "
   ]
  },
  {
   "cell_type": "markdown",
   "metadata": {},
   "source": [
    "## Null Values Check"
   ]
  },
  {
   "cell_type": "markdown",
   "metadata": {},
   "source": [
    "Now we will do missing value check or null value check"
   ]
  },
  {
   "cell_type": "code",
   "execution_count": 9,
   "metadata": {},
   "outputs": [
    {
     "data": {
      "text/plain": [
       "First_owner                68.75%\n",
       "First_registration_date    58.50%\n",
       "CO2_emissions              54.85%\n",
       "Origin_country             43.20%\n",
       "Vehicle_version            33.71%\n",
       "Vehicle_generation         29.02%\n",
       "Drive                       7.24%\n",
       "Displacement_cm3            0.94%\n",
       "Doors_number                0.71%\n",
       "Mileage_km                  0.47%\n",
       "Power_HP                    0.31%\n",
       "Transmission                0.23%\n",
       "dtype: object"
      ]
     },
     "execution_count": 9,
     "metadata": {},
     "output_type": "execute_result"
    }
   ],
   "source": [
    "#### Get list of columns with Null / NaN values & their percentage count\n",
    "\n",
    "(car_sales_df.isnull().sum() / len(car_sales_df) * 100).loc[lambda x: x > 0].sort_values(ascending=False).apply(lambda x: f\"{x:.2f}%\")"
   ]
  },
  {
   "cell_type": "markdown",
   "metadata": {},
   "source": [
    "**Conclusion:** There are 12 columns out of 24 that have null values. Following columns have 30% or more observations missing:\n",
    "- First Owner\n",
    "- First Registration Date\n",
    "- CO2 emission amount\n",
    "- Origin Country\n",
    "- Vehicle version\n",
    "- Vehicle_generation"
   ]
  },
  {
   "cell_type": "markdown",
   "metadata": {},
   "source": [
    "## Null Values Replacement "
   ]
  },
  {
   "cell_type": "markdown",
   "metadata": {},
   "source": [
    "As we saw, almost half of the 24 columns have missing entries & none of these 12 columns that have missing entries could be dropped since most of them provide crucial information about the car property that could be used as a feature for the segmentation.\n",
    "\n",
    "Thus, we would need individual strategy for each column to fill the gaps.\n",
    "\n",
    "To do this, we would use **Data Imputation Techniques**  on the columns where there are missing values or nulls. There are 12 columns with Nulls. Out of the 12, following columns could be easily imputed since these are categorical columns with little to no anomalies.\n",
    "\n",
    "- First_owner \n",
    "- Origin_country\n",
    "- Vehicle_version \n",
    "- Vehicle_generation \n",
    "- Drive \n",
    "- Transmission \n",
    "\n",
    "For First Owner, we will replace null with 'Missing'. For rest, we will impute missing values based on mode of groups of the car property (Brand, Model etc.) \n",
    "\n",
    "For Origin Country, vehicle version & generation, we will do imputation based on vehicle brand & model\n",
    "\n",
    "For Drive & Transmission, we will use brand, model, fuel type & car type"
   ]
  },
  {
   "cell_type": "code",
   "execution_count": 10,
   "metadata": {},
   "outputs": [],
   "source": [
    "# Define a function to handle missing values\n",
    "def fill_with_mode(group):\n",
    "    mode = group.mode()\n",
    "    return group.fillna(mode[0] if not mode.empty else 'None')\n",
    "\n",
    "car_sales_df['First_owner'] = car_sales_df['First_owner'].fillna('Missing') \n",
    "\n",
    "for col in ['Origin_country', 'Vehicle_version', 'Vehicle_generation', 'Doors_number']:\n",
    "    car_sales_df[col] = car_sales_df.groupby(['Vehicle_brand', 'Vehicle_model'])[col].transform(fill_with_mode) # Apply the function group-wise\n",
    "\n",
    "for col in ['Origin_country','Vehicle_version','Vehicle_generation','Doors_number']:\n",
    "    car_sales_df[col] = car_sales_df.groupby(['Vehicle_brand','Vehicle_model'])[col].transform(fill_with_mode) # Apply the function group-wise\n",
    "    \n",
    "group_lis = ['Vehicle_brand','Vehicle_model','Fuel_type','Type']\n",
    "for col in ['Drive','Transmission']:\n",
    "    car_sales_df[col] = car_sales_df.groupby(group_lis)[col].transform(fill_with_mode) # Apply the function group-wise"
   ]
  },
  {
   "cell_type": "markdown",
   "metadata": {},
   "source": [
    "For the following columns, we would need to do imputation based on various groups since these columns are where most of the anomalies have been observed\n",
    "\n",
    "- First_registration_date \n",
    "- CO2_emissions \n",
    "- Displacement_cm3\n",
    "- Mileage_km \n",
    "- Power_HP\n",
    "\n",
    "For First Registration Date, we would use Vehicle Brand, Model & Production Year\n",
    "\n",
    "For Displacement, Power_HP, Co2_emission & Doors_number, we will use Vehicle Brand, Model, Fuel_type, Type\n",
    "\n",
    "For Mileage_km, we will use Vehicle Brand, Model, Condition, Type"
   ]
  },
  {
   "cell_type": "code",
   "execution_count": 11,
   "metadata": {},
   "outputs": [],
   "source": [
    "#### converting 'First_registration_date' & 'Offer_publication_date' to date-time for further analysis\n",
    "\n",
    "car_sales_df['First_registration_date'] = pd.to_datetime(car_sales_df['First_registration_date'], format='%d/%m/%Y',errors='coerce')\n",
    "car_sales_df['Offer_publication_date'] = pd.to_datetime(car_sales_df['Offer_publication_date'], format='%d/%m/%Y',errors='coerce')\n",
    "\n",
    "car_sales_df['Doors_number'] = car_sales_df['Doors_number'].replace('None', 0).astype('int64')\n",
    "\n",
    "\n",
    "##### Impute Registration Date based on group median. If group median not available, use median of full column\n",
    "group_lis = ['Vehicle_brand','Vehicle_model','Production_year']\n",
    "global_median = car_sales_df['First_registration_date'].median()\n",
    "\n",
    "car_sales_df['First_registration_date'] = car_sales_df.groupby(group_lis)['First_registration_date'].transform(lambda x: x.fillna(x.median() if not x.isna().all() else global_median))"
   ]
  },
  {
   "cell_type": "code",
   "execution_count": 12,
   "metadata": {},
   "outputs": [],
   "source": [
    "group_lis = ['Vehicle_brand','Vehicle_model','Fuel_type', 'Type']\n",
    "\n",
    "##### Impute columns based on group median. If group median not available, use median of full column\n",
    "for col in ['Displacement_cm3','Power_HP','CO2_emissions']:    \n",
    "    global_median = car_sales_df[col].median()\n",
    "    car_sales_df[col] = car_sales_df.groupby(group_lis)[col].transform(lambda x: x.fillna(x.median() if not x.isnull().all() else global_median))\n",
    "    \n",
    "group_lis = ['Vehicle_brand','Vehicle_model','Condition', 'Type'] \n",
    "\n",
    "##### Impute columns based on group median. If group median not available, use median of full column\n",
    "col = 'Mileage_km'\n",
    "global_median = car_sales_df[col].median()\n",
    "car_sales_df[col] = car_sales_df.groupby(group_lis)[col].transform(lambda x: x.fillna(x.median() if not x.isnull().all() else global_median))"
   ]
  },
  {
   "cell_type": "code",
   "execution_count": 13,
   "metadata": {},
   "outputs": [
    {
     "data": {
      "text/plain": [
       "Index                      False\n",
       "Price                      False\n",
       "Currency                   False\n",
       "Condition                  False\n",
       "Vehicle_brand              False\n",
       "Vehicle_model              False\n",
       "Vehicle_version            False\n",
       "Vehicle_generation         False\n",
       "Production_year            False\n",
       "Mileage_km                 False\n",
       "Power_HP                   False\n",
       "Displacement_cm3           False\n",
       "Fuel_type                  False\n",
       "CO2_emissions              False\n",
       "Drive                      False\n",
       "Transmission               False\n",
       "Type                       False\n",
       "Doors_number               False\n",
       "Colour                     False\n",
       "Origin_country             False\n",
       "First_owner                False\n",
       "First_registration_date    False\n",
       "Offer_publication_date     False\n",
       "Offer_location             False\n",
       "Features                   False\n",
       "dtype: bool"
      ]
     },
     "execution_count": 13,
     "metadata": {},
     "output_type": "execute_result"
    }
   ],
   "source": [
    "#### Check if any missing values left\n",
    "car_sales_df.isna().any()"
   ]
  },
  {
   "cell_type": "markdown",
   "metadata": {},
   "source": [
    "## Basic Visualization"
   ]
  },
  {
   "cell_type": "markdown",
   "metadata": {},
   "source": [
    "Let's Plot Car Prices & Mileage to see the ditribution"
   ]
  },
  {
   "cell_type": "code",
   "execution_count": 14,
   "metadata": {},
   "outputs": [
    {
     "data": {
      "image/png": "[encoded data removed]",
      "text/plain": [
       "<Figure size 864x576 with 1 Axes>"
      ]
     },
     "metadata": {
      "needs_background": "light"
     },
     "output_type": "display_data"
    }
   ],
   "source": [
    "skew = plot_hist(car_sales_df,'Price',100,'Car Prices',kde=True,formatter=True,skewness=True)"
   ]
  },
  {
   "cell_type": "code",
   "execution_count": 15,
   "metadata": {},
   "outputs": [
    {
     "data": {
      "image/png": "[encoded data removed]",
      "text/plain": [
       "<Figure size 864x576 with 1 Axes>"
      ]
     },
     "metadata": {
      "needs_background": "light"
     },
     "output_type": "display_data"
    }
   ],
   "source": [
    "plot_hist(car_sales_df,'Mileage_km',100,'Car Mileage')"
   ]
  },
  {
   "cell_type": "markdown",
   "metadata": {},
   "source": [
    "As we can see the distribution is heavily skewed."
   ]
  },
  {
   "cell_type": "markdown",
   "metadata": {},
   "source": [
    "## Feature Engineering"
   ]
  },
  {
   "cell_type": "markdown",
   "metadata": {},
   "source": [
    "Before we proceed with Clustering, we would need to generate additional set of features, that will help with clustering. Vehicle age will help us understand how old the car is. We chose 2021 as base year since the dataset was formed and latest entry in the offer publication column in from May 2021. Additionally, we also created prod_reg_gap which is lag between vehicle production & registration. This will help us spot any potential anomalies."
   ]
  },
  {
   "cell_type": "code",
   "execution_count": 16,
   "metadata": {},
   "outputs": [],
   "source": [
    "#### Extracting registration year \n",
    "car_sales_df['first_registration_year'] = car_sales_df['First_registration_date'].dt.year\n",
    "\n",
    "#### Calculating gap between production year & registration year. This feature would provide useful signal to spot anomalies in registration date column \n",
    "car_sales_df['prod_reg_gap'] = car_sales_df['first_registration_year'] - car_sales_df['Production_year']\n",
    "\n",
    "#### Age of car\n",
    "car_sales_df['car_age'] = 2021 - car_sales_df['Production_year']"
   ]
  },
  {
   "cell_type": "markdown",
   "metadata": {},
   "source": [
    "## Clustering"
   ]
  },
  {
   "cell_type": "markdown",
   "metadata": {},
   "source": [
    "In order to do the clustering & segment our vehicles in groups of similar feature, we will deploy following approach:\n",
    "\n",
    "- Data Pre-Processing\n",
    "- Feature Selection\n",
    "- Algorithm Testing\n",
    "- Cluster Visualization\n",
    "- Results Interpretation"
   ]
  },
  {
   "cell_type": "markdown",
   "metadata": {},
   "source": [
    "### Data Preprocessing"
   ]
  },
  {
   "cell_type": "markdown",
   "metadata": {},
   "source": [
    "Most of our numerical features are on varying scales, for example, price of car in PLN/Euro with average of 63053 PLN & Number of Doors are single or double digits. We would need all of these features to have a common scale that ensures that all features contribute equally to the clustering process, regardless of their original range or units. Additionally, algorithms like K-Means assume that all features have comparable ranges. Thus, if features are not scaled, cluster centroids might skew toward high-value features. SO we would do **Feature Scaling.**\n",
    "\n",
    "Moreover, most of the numerical features (Price, Mileage & Emissions) are highly skewed. If a feature has a highly right-skewed distribution, applying a log transformation can make the distribution closer to normal. This reduces the influence of extreme values (outliers) on the clustering process. Hence we would do **Log Transformation.**\n",
    "\n",
    "**Finally, we would also convert relevant categorical features into numerical using one-hot encoding.**\n"
   ]
  },
  {
   "cell_type": "code",
   "execution_count": 17,
   "metadata": {},
   "outputs": [],
   "source": [
    "car_sales_df_copy = car_sales_df.copy()\n",
    "\n",
    "#### One Hot Encoding\n",
    "col_lis = ['Condition','Type']\n",
    "car_sales_df = pd.get_dummies(car_sales_df, columns=col_lis)\n",
    "\n",
    "# List of features to be scaled and log-transformed (adjust based on your dataset)\n",
    "features_to_scale = ['Price','car_age', 'Mileage_km','Power_HP','Displacement_cm3', 'CO2_emissions','prod_reg_gap','Doors_number']\n",
    "features_to_log_transform = ['Price', 'Mileage_km','CO2_emissions']\n",
    "\n",
    "# Scaling Features** for consistency across features\n",
    "scaler = StandardScaler()  # or MinMaxScaler() if you prefer scaling between 0 and 1\n",
    "scaler.fit(car_sales_df[features_to_scale])\n",
    "car_sales_df[features_to_scale] = scaler.transform(car_sales_df[features_to_scale])\n",
    "\n",
    "# Log Transformation** for skewed features\n",
    "for feature in features_to_log_transform:\n",
    "    car_sales_df[feature] = car_sales_df[feature].apply(lambda x: np.log1p(x) if x > 0 else 0)\n"
   ]
  },
  {
   "cell_type": "markdown",
   "metadata": {},
   "source": [
    "### Feature Selection"
   ]
  },
  {
   "cell_type": "markdown",
   "metadata": {},
   "source": [
    "For clustering, we will mostly focus on vehicle properties such as age, miles covered, price, etc sicne the gola is to segment them into clusters of similar properties. Thus we will select following features"
   ]
  },
  {
   "cell_type": "code",
   "execution_count": 18,
   "metadata": {},
   "outputs": [
    {
     "data": {
      "text/html": [
       "<div>\n",
       "<style scoped>\n",
       "    .dataframe tbody tr th:only-of-type {\n",
       "        vertical-align: middle;\n",
       "    }\n",
       "\n",
       "    .dataframe tbody tr th {\n",
       "        vertical-align: top;\n",
       "    }\n",
       "\n",
       "    .dataframe thead th {\n",
       "        text-align: right;\n",
       "    }\n",
       "</style>\n",
       "<table border=\"1\" class=\"dataframe\">\n",
       "  <thead>\n",
       "    <tr style=\"text-align: right;\">\n",
       "      <th></th>\n",
       "      <th>Index</th>\n",
       "      <th>Price</th>\n",
       "      <th>Mileage_km</th>\n",
       "      <th>Power_HP</th>\n",
       "      <th>Displacement_cm3</th>\n",
       "      <th>CO2_emissions</th>\n",
       "      <th>Doors_number</th>\n",
       "      <th>prod_reg_gap</th>\n",
       "      <th>car_age</th>\n",
       "      <th>Condition_New</th>\n",
       "      <th>Condition_Used</th>\n",
       "    </tr>\n",
       "  </thead>\n",
       "  <tbody>\n",
       "    <tr>\n",
       "      <th>0</th>\n",
       "      <td>0</td>\n",
       "      <td>0.237</td>\n",
       "      <td>0.000</td>\n",
       "      <td>-0.088</td>\n",
       "      <td>-0.663</td>\n",
       "      <td>0.000</td>\n",
       "      <td>-2.131</td>\n",
       "      <td>-0.090</td>\n",
       "      <td>-1.272</td>\n",
       "      <td>True</td>\n",
       "      <td>False</td>\n",
       "    </tr>\n",
       "    <tr>\n",
       "      <th>1</th>\n",
       "      <td>1</td>\n",
       "      <td>0.000</td>\n",
       "      <td>0.000</td>\n",
       "      <td>-0.989</td>\n",
       "      <td>-1.076</td>\n",
       "      <td>0.000</td>\n",
       "      <td>-3.432</td>\n",
       "      <td>10.041</td>\n",
       "      <td>5.444</td>\n",
       "      <td>False</td>\n",
       "      <td>True</td>\n",
       "    </tr>\n",
       "    <tr>\n",
       "      <th>2</th>\n",
       "      <td>2</td>\n",
       "      <td>0.000</td>\n",
       "      <td>0.000</td>\n",
       "      <td>0.362</td>\n",
       "      <td>-0.707</td>\n",
       "      <td>0.000</td>\n",
       "      <td>-2.131</td>\n",
       "      <td>-1.389</td>\n",
       "      <td>-0.843</td>\n",
       "      <td>False</td>\n",
       "      <td>True</td>\n",
       "    </tr>\n",
       "    <tr>\n",
       "      <th>3</th>\n",
       "      <td>3</td>\n",
       "      <td>0.000</td>\n",
       "      <td>0.000</td>\n",
       "      <td>0.105</td>\n",
       "      <td>-0.707</td>\n",
       "      <td>0.000</td>\n",
       "      <td>-2.131</td>\n",
       "      <td>0.169</td>\n",
       "      <td>0.014</td>\n",
       "      <td>False</td>\n",
       "      <td>True</td>\n",
       "    </tr>\n",
       "    <tr>\n",
       "      <th>4</th>\n",
       "      <td>4</td>\n",
       "      <td>0.338</td>\n",
       "      <td>0.000</td>\n",
       "      <td>0.169</td>\n",
       "      <td>-0.707</td>\n",
       "      <td>0.000</td>\n",
       "      <td>-2.131</td>\n",
       "      <td>-0.090</td>\n",
       "      <td>-1.272</td>\n",
       "      <td>True</td>\n",
       "      <td>False</td>\n",
       "    </tr>\n",
       "  </tbody>\n",
       "</table>\n",
       "</div>"
      ],
      "text/plain": [
       "   Index  Price  Mileage_km  Power_HP  Displacement_cm3  CO2_emissions  \\\n",
       "0      0  0.237       0.000    -0.088            -0.663          0.000   \n",
       "1      1  0.000       0.000    -0.989            -1.076          0.000   \n",
       "2      2  0.000       0.000     0.362            -0.707          0.000   \n",
       "3      3  0.000       0.000     0.105            -0.707          0.000   \n",
       "4      4  0.338       0.000     0.169            -0.707          0.000   \n",
       "\n",
       "   Doors_number  prod_reg_gap  car_age  Condition_New  Condition_Used  \n",
       "0        -2.131        -0.090   -1.272           True           False  \n",
       "1        -3.432        10.041    5.444          False            True  \n",
       "2        -2.131        -1.389   -0.843          False            True  \n",
       "3        -2.131         0.169    0.014          False            True  \n",
       "4        -2.131        -0.090   -1.272           True           False  "
      ]
     },
     "execution_count": 18,
     "metadata": {},
     "output_type": "execute_result"
    }
   ],
   "source": [
    "cols_to_keep = [\"Index\",'Price','Mileage_km', 'Power_HP','Displacement_cm3', 'CO2_emissions', 'Doors_number','prod_reg_gap','car_age','Condition_New','Condition_Used']\n",
    "car_feat_cluster = car_sales_df[cols_to_keep]\n",
    "car_feat_cluster.head()"
   ]
  },
  {
   "cell_type": "markdown",
   "metadata": {},
   "source": [
    "Before moving ahead we will do correlation check to drop unneseccary features"
   ]
  },
  {
   "cell_type": "code",
   "execution_count": 19,
   "metadata": {},
   "outputs": [
    {
     "name": "stdout",
     "output_type": "stream",
     "text": [
      "Features to drop: ['Condition_Used']\n"
     ]
    }
   ],
   "source": [
    "correlation_matrix = car_feat_cluster[cols_to_keep].corr(method='pearson')  # Compute the correlation matrix\n",
    "\n",
    "# Find the upper triangle of the correlation matrix\n",
    "upper_triangle = np.triu(np.ones(correlation_matrix.shape), k=1).astype(bool)\n",
    "upper_triangle_matrix = correlation_matrix.where(upper_triangle)\n",
    "\n",
    "# Find features with high correlation\n",
    "threshold = 0.8\n",
    "to_drop = [column for column in upper_triangle_matrix.columns if any(upper_triangle_matrix[column].abs() > threshold)]\n",
    "\n",
    "print(f\"Features to drop: {to_drop}\")"
   ]
  },
  {
   "cell_type": "markdown",
   "metadata": {},
   "source": [
    "## Algorithms to Test"
   ]
  },
  {
   "cell_type": "markdown",
   "metadata": {},
   "source": [
    "### KMeans"
   ]
  },
  {
   "cell_type": "markdown",
   "metadata": {},
   "source": [
    "We will start simple with KMeans since its distance based & fast algorithm. In order to chose the most optimal set of clusters, we will first use elbow technique"
   ]
  },
  {
   "cell_type": "code",
   "execution_count": 20,
   "metadata": {},
   "outputs": [
    {
     "data": {
      "text/html": [
       "<div>\n",
       "<style scoped>\n",
       "    .dataframe tbody tr th:only-of-type {\n",
       "        vertical-align: middle;\n",
       "    }\n",
       "\n",
       "    .dataframe tbody tr th {\n",
       "        vertical-align: top;\n",
       "    }\n",
       "\n",
       "    .dataframe thead th {\n",
       "        text-align: right;\n",
       "    }\n",
       "</style>\n",
       "<table border=\"1\" class=\"dataframe\">\n",
       "  <thead>\n",
       "    <tr style=\"text-align: right;\">\n",
       "      <th></th>\n",
       "      <th>Number of Clusters (k)</th>\n",
       "      <th>WCSS</th>\n",
       "    </tr>\n",
       "  </thead>\n",
       "  <tbody>\n",
       "    <tr>\n",
       "      <th>0</th>\n",
       "      <td>2</td>\n",
       "      <td>839678.621</td>\n",
       "    </tr>\n",
       "    <tr>\n",
       "      <th>1</th>\n",
       "      <td>3</td>\n",
       "      <td>677560.988</td>\n",
       "    </tr>\n",
       "    <tr>\n",
       "      <th>2</th>\n",
       "      <td>4</td>\n",
       "      <td>546899.877</td>\n",
       "    </tr>\n",
       "    <tr>\n",
       "      <th>3</th>\n",
       "      <td>5</td>\n",
       "      <td>457038.932</td>\n",
       "    </tr>\n",
       "    <tr>\n",
       "      <th>4</th>\n",
       "      <td>6</td>\n",
       "      <td>409040.126</td>\n",
       "    </tr>\n",
       "    <tr>\n",
       "      <th>5</th>\n",
       "      <td>7</td>\n",
       "      <td>377292.395</td>\n",
       "    </tr>\n",
       "    <tr>\n",
       "      <th>6</th>\n",
       "      <td>8</td>\n",
       "      <td>348320.287</td>\n",
       "    </tr>\n",
       "    <tr>\n",
       "      <th>7</th>\n",
       "      <td>9</td>\n",
       "      <td>332291.735</td>\n",
       "    </tr>\n",
       "  </tbody>\n",
       "</table>\n",
       "</div>"
      ],
      "text/plain": [
       "   Number of Clusters (k)       WCSS\n",
       "0                       2 839678.621\n",
       "1                       3 677560.988\n",
       "2                       4 546899.877\n",
       "3                       5 457038.932\n",
       "4                       6 409040.126\n",
       "5                       7 377292.395\n",
       "6                       8 348320.287\n",
       "7                       9 332291.735"
      ]
     },
     "metadata": {},
     "output_type": "display_data"
    },
    {
     "data": {
      "image/png": "[encoded data removed]",
      "text/plain": [
       "<Figure size 432x288 with 1 Axes>"
      ]
     },
     "metadata": {
      "needs_background": "light"
     },
     "output_type": "display_data"
    }
   ],
   "source": [
    "cols_to_keep = ['Price','Mileage_km', 'Power_HP','Displacement_cm3', 'CO2_emissions', 'Doors_number','prod_reg_gap','car_age','Condition_New']\n",
    "\n",
    "# Run KMeans for different values of k\n",
    "wcss = []  # Within-Cluster Sum of Squares (WCSS)\n",
    "\n",
    "k_values = range(2, 10)  # Test k values from 2 to 10\n",
    "for k in k_values:\n",
    "    kmeans = KMeans(n_clusters=k, random_state=42)\n",
    "    kmeans.fit(car_feat_cluster[cols_to_keep])\n",
    "    wcss.append(kmeans.inertia_)  # Inertia is equivalent to WCSS\n",
    "    \n",
    "# Create a DataFrame\n",
    "wcss_df = pd.DataFrame({'Number of Clusters (k)': list(k_values),'WCSS': wcss})\n",
    "display(wcss_df)\n",
    "\n",
    "plt.plot(k_values, wcss, marker='o', linestyle='--')\n",
    "plt.xlabel('Number of Clusters (k)')\n",
    "plt.ylabel('WCSS (Within-Cluster Sum of Squares)')\n",
    "plt.title('Elbow Method for Optimal k')\n",
    "plt.show()"
   ]
  },
  {
   "cell_type": "markdown",
   "metadata": {},
   "source": [
    "From the looks of it, we can go ahead with k=4. But we will do  Davies-Bouldin Index (DBI) to evaluate the clustering performance. The DBI is a good metric to assess clustering quality, with lower values indicating better clustering."
   ]
  },
  {
   "cell_type": "code",
   "execution_count": 21,
   "metadata": {},
   "outputs": [
    {
     "name": "stdout",
     "output_type": "stream",
     "text": [
      "Davies-Bouldin Index for k=2: 1.270\n",
      "Davies-Bouldin Index for k=3: 0.958\n",
      "Davies-Bouldin Index for k=4: 0.950\n",
      "Davies-Bouldin Index for k=5: 1.010\n",
      "Davies-Bouldin Index for k=6: 1.065\n",
      "Davies-Bouldin Index for k=7: 1.150\n",
      "Davies-Bouldin Index for k=8: 1.126\n",
      "Davies-Bouldin Index for k=9: 1.105\n"
     ]
    }
   ],
   "source": [
    "for k in k_values:\n",
    "    kmeans = KMeans(n_clusters=k, random_state=42)\n",
    "    labels = kmeans.fit_predict(car_feat_cluster[cols_to_keep])\n",
    "    dbi = davies_bouldin_score(car_feat_cluster[cols_to_keep], labels)\n",
    "    print(f\"Davies-Bouldin Index for k={k}: {dbi:.3f}\")"
   ]
  },
  {
   "cell_type": "markdown",
   "metadata": {},
   "source": [
    "From Elbow Method & DBI score, it's safe to go with k=4. Now let's go ahead with running KMeans"
   ]
  },
  {
   "cell_type": "code",
   "execution_count": 22,
   "metadata": {},
   "outputs": [],
   "source": [
    "cols_to_keep = ['Price','Mileage_km', 'Power_HP','Displacement_cm3', 'CO2_emissions', 'Doors_number','prod_reg_gap','car_age','Condition_New']\n",
    "\n",
    "# Choose the optimal k from previous evaluations\n",
    "optimal_k = 4  # Example, based on Elbow and Silhouette results\n",
    "kmeans = KMeans(n_clusters=optimal_k, random_state=42)\n",
    "labels = kmeans.fit_predict(car_feat_cluster[cols_to_keep])\n",
    "car_feat_cluster['Cluster'] = labels"
   ]
  },
  {
   "cell_type": "markdown",
   "metadata": {},
   "source": [
    "For the visualization, we will us PCA. PCA reduces high dimentional data to 2D that will help us to evaluate & visualize the clustes."
   ]
  },
  {
   "cell_type": "code",
   "execution_count": 23,
   "metadata": {},
   "outputs": [
    {
     "data": {
      "image/png": "[encoded data removed]",
      "text/plain": [
       "<Figure size 576x432 with 1 Axes>"
      ]
     },
     "metadata": {
      "needs_background": "light"
     },
     "output_type": "display_data"
    }
   ],
   "source": [
    "# Perform PCA for dimensionality reduction\n",
    "pca = PCA(n_components=2)\n",
    "reduced_data = pca.fit_transform(car_feat_cluster[cols_to_keep])\n",
    "\n",
    "# Create the plot\n",
    "plt.figure(figsize=(8, 6))\n",
    "\n",
    "# Scatter plot for each cluster\n",
    "unique_labels = np.unique(labels)\n",
    "for label in unique_labels:\n",
    "    plt.scatter(\n",
    "        reduced_data[labels == label, 0],\n",
    "        reduced_data[labels == label, 1],\n",
    "        label=f'Cluster {label + 1}',  # Adding 1 to make clusters human-readable (1-based)\n",
    "        s=50,\n",
    "    )\n",
    "\n",
    "# Plot centroids\n",
    "plt.scatter(\n",
    "    kmeans.cluster_centers_[:, 0],\n",
    "    kmeans.cluster_centers_[:, 1],\n",
    "    c='red',\n",
    "    s=200,\n",
    "    alpha=0.7,\n",
    "    label='Centroids'\n",
    ")\n",
    "\n",
    "# Add title, labels, and legend\n",
    "plt.title('KMeans Clustering Visualization')\n",
    "plt.xlabel('Principal Component 1')\n",
    "plt.ylabel('Principal Component 2')\n",
    "plt.legend()\n",
    "plt.show()"
   ]
  },
  {
   "cell_type": "markdown",
   "metadata": {},
   "source": [
    "The clusters look relatively less well separated & there are some apparent outliers. To proofcheck this, we will try another modelling approach"
   ]
  },
  {
   "cell_type": "markdown",
   "metadata": {},
   "source": [
    "### GMM"
   ]
  },
  {
   "cell_type": "markdown",
   "metadata": {},
   "source": [
    "KMeans assumes that our clusters would be spherical in nature & is distance based algoithm. Now we will try Gaussian Mixture Models.This is probabilistic approach.\n",
    "\n",
    "First we will do parameter search to find the best set of n_compoents. For this we will start with 2 till 6, run GMM & calculate silhouette score. Higher the score, better the separation between the clusters."
   ]
  },
  {
   "cell_type": "code",
   "execution_count": 24,
   "metadata": {},
   "outputs": [
    {
     "name": "stdout",
     "output_type": "stream",
     "text": [
      "Optimal number of components based on Silhouette Score: 2 (Silhouette Score: 0.51)\n"
     ]
    }
   ],
   "source": [
    "cols_to_keep = ['Price','Mileage_km', 'Power_HP','Displacement_cm3', 'CO2_emissions', 'Doors_number','prod_reg_gap','car_age','Condition_New']\n",
    "\n",
    "# Iterate through a smaller range of components to find the best based on silhouette score\n",
    "best_silhouette = -1\n",
    "best_components_silhouette = 0\n",
    "silh_dict = {\"n\":[],\"score\":[]}\n",
    "\n",
    "for n in [2,4,6]:  # Test for n_components = 2 to 10\n",
    "    gmm = GaussianMixture(n_components=n, random_state=42)\n",
    "    labels = gmm.fit_predict(car_feat_cluster[cols_to_keep])\n",
    "    sil_score = silhouette_score(car_feat_cluster[cols_to_keep], labels)\n",
    "    \n",
    "    silh_dict[\"n\"].append(n)\n",
    "    silh_dict[\"score\"].append(sil_score)\n",
    "    \n",
    "    if sil_score > best_silhouette:\n",
    "        best_silhouette = sil_score\n",
    "        best_components_silhouette = n\n",
    "\n",
    "print(f\"Optimal number of components based on Silhouette Score: {best_components_silhouette} (Silhouette Score: {best_silhouette:.2f})\")"
   ]
  },
  {
   "cell_type": "markdown",
   "metadata": {},
   "source": [
    "We see that the optimla number of clusters would be 2. So let's go ahead with it"
   ]
  },
  {
   "cell_type": "code",
   "execution_count": 25,
   "metadata": {},
   "outputs": [
    {
     "name": "stdout",
     "output_type": "stream",
     "text": [
      "Silhouette Score: 0.51\n",
      "Log-Likelihood: 4.70\n"
     ]
    }
   ],
   "source": [
    "# Set optimal n_components \n",
    "optimal_components = 2 \n",
    "\n",
    "gmm = GaussianMixture(n_components=optimal_components, random_state=42)\n",
    "gmm.fit(car_feat_cluster[cols_to_keep])\n",
    "\n",
    "# Predict cluster labels\n",
    "labels = gmm.predict(car_feat_cluster[cols_to_keep])\n",
    "\n",
    "# Add the cluster labels to the original DataFrame\n",
    "car_feat_cluster['GMM_Cluster'] = labels\n",
    "\n",
    "# Calculate Silhouette Score\n",
    "sil_score = silhouette_score(car_feat_cluster[cols_to_keep], labels)\n",
    "print(f'Silhouette Score: {sil_score:.2f}')\n",
    "\n",
    "# Log-Likelihood\n",
    "log_likelihood = gmm.score(car_feat_cluster[cols_to_keep])\n",
    "print(f'Log-Likelihood: {log_likelihood:.2f}')\n"
   ]
  },
  {
   "cell_type": "code",
   "execution_count": 23,
   "metadata": {},
   "outputs": [
    {
     "name": "stdout",
     "output_type": "stream",
     "text": [
      "Log-Likelihood: 4.70\n"
     ]
    }
   ],
   "source": [
    "cols_to_keep = ['Price','Mileage_km', 'Power_HP','Displacement_cm3', 'CO2_emissions', 'Doors_number','prod_reg_gap','car_age','Condition_New']\n",
    "\n",
    "# Set optimal n_components \n",
    "optimal_components = 2 \n",
    "\n",
    "gmm = GaussianMixture(n_components=optimal_components, random_state=42)\n",
    "gmm.fit(car_feat_cluster[cols_to_keep])\n",
    "\n",
    "# Predict cluster labels\n",
    "labels = gmm.predict(car_feat_cluster[cols_to_keep])\n",
    "\n",
    "# Add the cluster labels to the original DataFrame\n",
    "car_feat_cluster['GMM_Cluster'] = labels\n",
    "\n",
    "# Log-Likelihood\n",
    "log_likelihood = gmm.score(car_feat_cluster[cols_to_keep])\n",
    "print(f'Log-Likelihood: {log_likelihood:.2f}')\n"
   ]
  },
  {
   "cell_type": "markdown",
   "metadata": {},
   "source": [
    "As expected, for 2 clusters, the Silhoutter Score is good. Now let's go ahead & plot visualize the clusters using PCA"
   ]
  },
  {
   "cell_type": "code",
   "execution_count": 28,
   "metadata": {},
   "outputs": [
    {
     "data": {
      "image/png": "[encoded data removed]",
      "text/plain": [
       "<Figure size 576x432 with 1 Axes>"
      ]
     },
     "metadata": {
      "needs_background": "light"
     },
     "output_type": "display_data"
    }
   ],
   "source": [
    "# Reduce to 2D for visualization\n",
    "pca = PCA(n_components=2)\n",
    "reduced_data = pca.fit_transform(car_feat_cluster[cols_to_keep])\n",
    "\n",
    "# Get centroids of each cluster\n",
    "centroids = np.array([reduced_data[labels == i].mean(axis=0) for i in range(optimal_components)])\n",
    "\n",
    "# Sort clusters based on centroid positions in PCA space (2D)\n",
    "sorted_centroids_indices = np.argsort(centroids[:, 0])  # Sort by the first principal component\n",
    "\n",
    "# Create a new label mapping\n",
    "sorted_labels = np.array([np.where(sorted_centroids_indices == label)[0][0] for label in labels])\n",
    "\n",
    "# Define a color map\n",
    "cmap = plt.cm.get_cmap('tab10', optimal_components)\n",
    "\n",
    "# Plot the clusters\n",
    "plt.figure(figsize=(8, 6))\n",
    "for cluster in range(optimal_components):\n",
    "    cluster_points = reduced_data[sorted_labels == cluster]\n",
    "    plt.scatter(cluster_points[:, 0], cluster_points[:, 1], label=f'Cluster {cluster}', color=cmap(cluster))\n",
    "\n",
    "plt.title('GMM Clustering Visualization')\n",
    "plt.xlabel('PCA Component 1')\n",
    "plt.ylabel('PCA Component 2')\n",
    "plt.legend()\n",
    "plt.show()"
   ]
  },
  {
   "cell_type": "markdown",
   "metadata": {},
   "source": [
    "From the first inspection, it looks like cluster 01 has majority of the entries since it's bigger in size while cluster 1 is less entries. This might indicate that cluster 1 entries would be outliers or anomalies. Let's validate that  "
   ]
  },
  {
   "cell_type": "code",
   "execution_count": 25,
   "metadata": {},
   "outputs": [
    {
     "data": {
      "text/plain": [
       "GMM_Cluster\n",
       "0    187677\n",
       "1     20627\n",
       "Name: count, dtype: int64"
      ]
     },
     "execution_count": 25,
     "metadata": {},
     "output_type": "execute_result"
    }
   ],
   "source": [
    "# Analyze the size of each cluster\n",
    "car_feat_cluster['GMM_Cluster'].value_counts()"
   ]
  },
  {
   "cell_type": "markdown",
   "metadata": {},
   "source": [
    "As we can see, majority of the observations are assigned to cluster 0, while small number of observations are kept in cluster 1. Let's now examine within cluster stats"
   ]
  },
  {
   "cell_type": "code",
   "execution_count": 26,
   "metadata": {},
   "outputs": [
    {
     "name": "stdout",
     "output_type": "stream",
     "text": [
      "\n",
      "Cluster Means:\n"
     ]
    },
    {
     "data": {
      "text/html": [
       "<div>\n",
       "<style scoped>\n",
       "    .dataframe tbody tr th:only-of-type {\n",
       "        vertical-align: middle;\n",
       "    }\n",
       "\n",
       "    .dataframe tbody tr th {\n",
       "        vertical-align: top;\n",
       "    }\n",
       "\n",
       "    .dataframe thead th {\n",
       "        text-align: right;\n",
       "    }\n",
       "</style>\n",
       "<table border=\"1\" class=\"dataframe\">\n",
       "  <thead>\n",
       "    <tr style=\"text-align: right;\">\n",
       "      <th></th>\n",
       "      <th>Price</th>\n",
       "      <th>Mileage_km</th>\n",
       "      <th>Power_HP</th>\n",
       "      <th>Displacement_cm3</th>\n",
       "      <th>CO2_emissions</th>\n",
       "      <th>Doors_number</th>\n",
       "      <th>prod_reg_gap</th>\n",
       "      <th>car_age</th>\n",
       "      <th>Condition_New</th>\n",
       "    </tr>\n",
       "  </thead>\n",
       "  <tbody>\n",
       "    <tr>\n",
       "      <th>Cluster 0</th>\n",
       "      <td>0.127</td>\n",
       "      <td>0.012</td>\n",
       "      <td>-0.139</td>\n",
       "      <td>-0.144</td>\n",
       "      <td>0.000</td>\n",
       "      <td>0.073</td>\n",
       "      <td>-0.076</td>\n",
       "      <td>-0.034</td>\n",
       "      <td>0.107</td>\n",
       "    </tr>\n",
       "    <tr>\n",
       "      <th>Cluster 1</th>\n",
       "      <td>0.516</td>\n",
       "      <td>0.013</td>\n",
       "      <td>1.257</td>\n",
       "      <td>1.302</td>\n",
       "      <td>0.001</td>\n",
       "      <td>-0.654</td>\n",
       "      <td>0.687</td>\n",
       "      <td>0.309</td>\n",
       "      <td>0.260</td>\n",
       "    </tr>\n",
       "  </tbody>\n",
       "</table>\n",
       "</div>"
      ],
      "text/plain": [
       "           Price  Mileage_km  Power_HP  Displacement_cm3  CO2_emissions  \\\n",
       "Cluster 0  0.127       0.012    -0.139            -0.144          0.000   \n",
       "Cluster 1  0.516       0.013     1.257             1.302          0.001   \n",
       "\n",
       "           Doors_number  prod_reg_gap  car_age  Condition_New  \n",
       "Cluster 0         0.073        -0.076   -0.034          0.107  \n",
       "Cluster 1        -0.654         0.687    0.309          0.260  "
      ]
     },
     "metadata": {},
     "output_type": "display_data"
    }
   ],
   "source": [
    "print('\\nCluster Means:')\n",
    "means_df = pd.DataFrame(gmm.means_, columns=cols_to_keep)\n",
    "means_df.index = [f'Cluster {i}' for i in range(gmm.n_components)]\n",
    "display(means_df)"
   ]
  },
  {
   "cell_type": "markdown",
   "metadata": {},
   "source": [
    "It is evident that entries in cluster 1 have high average price, enginer power, age & displacement. And since these are so less in numbers, these would be outliers."
   ]
  },
  {
   "cell_type": "markdown",
   "metadata": {},
   "source": [
    "Let's do last validation on this"
   ]
  },
  {
   "cell_type": "code",
   "execution_count": 29,
   "metadata": {},
   "outputs": [
    {
     "data": {
      "text/plain": [
       "GMM_Cluster\n",
       "0   90.098\n",
       "1    9.902\n",
       "Name: proportion, dtype: float64"
      ]
     },
     "execution_count": 29,
     "metadata": {},
     "output_type": "execute_result"
    }
   ],
   "source": [
    "df_val = pd.merge(car_sales_df,car_feat_cluster[['Index','GMM_Cluster']],on=['Index'],how='inner')\n",
    "df_val['GMM_Cluster'].value_counts(normalize=True)*100"
   ]
  },
  {
   "cell_type": "code",
   "execution_count": 31,
   "metadata": {},
   "outputs": [
    {
     "data": {
      "text/html": [
       "<div>\n",
       "<style scoped>\n",
       "    .dataframe tbody tr th:only-of-type {\n",
       "        vertical-align: middle;\n",
       "    }\n",
       "\n",
       "    .dataframe tbody tr th {\n",
       "        vertical-align: top;\n",
       "    }\n",
       "\n",
       "    .dataframe thead th {\n",
       "        text-align: right;\n",
       "    }\n",
       "</style>\n",
       "<table border=\"1\" class=\"dataframe\">\n",
       "  <thead>\n",
       "    <tr style=\"text-align: right;\">\n",
       "      <th></th>\n",
       "      <th>Price</th>\n",
       "      <th>Mileage_km</th>\n",
       "      <th>Power_HP</th>\n",
       "      <th>Displacement_cm3</th>\n",
       "      <th>CO2_emissions</th>\n",
       "      <th>Doors_number</th>\n",
       "      <th>prod_reg_gap</th>\n",
       "      <th>car_age</th>\n",
       "    </tr>\n",
       "  </thead>\n",
       "  <tbody>\n",
       "    <tr>\n",
       "      <th>count</th>\n",
       "      <td>20627.000</td>\n",
       "      <td>20627.000</td>\n",
       "      <td>20627.000</td>\n",
       "      <td>20627.000</td>\n",
       "      <td>20627.000</td>\n",
       "      <td>20627.000</td>\n",
       "      <td>20627.000</td>\n",
       "      <td>20627.000</td>\n",
       "    </tr>\n",
       "    <tr>\n",
       "      <th>mean</th>\n",
       "      <td>0.514</td>\n",
       "      <td>0.013</td>\n",
       "      <td>1.261</td>\n",
       "      <td>1.311</td>\n",
       "      <td>0.001</td>\n",
       "      <td>-0.658</td>\n",
       "      <td>0.693</td>\n",
       "      <td>0.317</td>\n",
       "    </tr>\n",
       "    <tr>\n",
       "      <th>std</th>\n",
       "      <td>0.661</td>\n",
       "      <td>0.083</td>\n",
       "      <td>1.984</td>\n",
       "      <td>1.979</td>\n",
       "      <td>0.056</td>\n",
       "      <td>1.610</td>\n",
       "      <td>3.087</td>\n",
       "      <td>1.914</td>\n",
       "    </tr>\n",
       "    <tr>\n",
       "      <th>min</th>\n",
       "      <td>0.000</td>\n",
       "      <td>0.000</td>\n",
       "      <td>-1.941</td>\n",
       "      <td>-2.038</td>\n",
       "      <td>0.000</td>\n",
       "      <td>-6.034</td>\n",
       "      <td>-31.005</td>\n",
       "      <td>-1.272</td>\n",
       "    </tr>\n",
       "    <tr>\n",
       "      <th>25%</th>\n",
       "      <td>0.000</td>\n",
       "      <td>0.000</td>\n",
       "      <td>-0.294</td>\n",
       "      <td>-0.116</td>\n",
       "      <td>0.000</td>\n",
       "      <td>-0.829</td>\n",
       "      <td>-0.610</td>\n",
       "      <td>-1.129</td>\n",
       "    </tr>\n",
       "    <tr>\n",
       "      <th>50%</th>\n",
       "      <td>0.159</td>\n",
       "      <td>0.000</td>\n",
       "      <td>0.633</td>\n",
       "      <td>0.437</td>\n",
       "      <td>0.000</td>\n",
       "      <td>0.472</td>\n",
       "      <td>-0.090</td>\n",
       "      <td>-0.272</td>\n",
       "    </tr>\n",
       "    <tr>\n",
       "      <th>75%</th>\n",
       "      <td>0.925</td>\n",
       "      <td>0.013</td>\n",
       "      <td>2.678</td>\n",
       "      <td>2.886</td>\n",
       "      <td>0.000</td>\n",
       "      <td>0.472</td>\n",
       "      <td>1.468</td>\n",
       "      <td>1.014</td>\n",
       "    </tr>\n",
       "    <tr>\n",
       "      <th>max</th>\n",
       "      <td>4.395</td>\n",
       "      <td>5.940</td>\n",
       "      <td>16.033</td>\n",
       "      <td>8.960</td>\n",
       "      <td>6.014</td>\n",
       "      <td>65.526</td>\n",
       "      <td>51.867</td>\n",
       "      <td>13.874</td>\n",
       "    </tr>\n",
       "  </tbody>\n",
       "</table>\n",
       "</div>"
      ],
      "text/plain": [
       "          Price  Mileage_km  Power_HP  Displacement_cm3  CO2_emissions  \\\n",
       "count 20627.000   20627.000 20627.000         20627.000      20627.000   \n",
       "mean      0.514       0.013     1.261             1.311          0.001   \n",
       "std       0.661       0.083     1.984             1.979          0.056   \n",
       "min       0.000       0.000    -1.941            -2.038          0.000   \n",
       "25%       0.000       0.000    -0.294            -0.116          0.000   \n",
       "50%       0.159       0.000     0.633             0.437          0.000   \n",
       "75%       0.925       0.013     2.678             2.886          0.000   \n",
       "max       4.395       5.940    16.033             8.960          6.014   \n",
       "\n",
       "       Doors_number  prod_reg_gap   car_age  \n",
       "count     20627.000     20627.000 20627.000  \n",
       "mean         -0.658         0.693     0.317  \n",
       "std           1.610         3.087     1.914  \n",
       "min          -6.034       -31.005    -1.272  \n",
       "25%          -0.829        -0.610    -1.129  \n",
       "50%           0.472        -0.090    -0.272  \n",
       "75%           0.472         1.468     1.014  \n",
       "max          65.526        51.867    13.874  "
      ]
     },
     "execution_count": 31,
     "metadata": {},
     "output_type": "execute_result"
    }
   ],
   "source": [
    "### Check entries in cluster 0\n",
    "\n",
    "df_val[df_val['GMM_Cluster']==1][cols_to_keep].describe()"
   ]
  },
  {
   "cell_type": "markdown",
   "metadata": {},
   "source": [
    "As we can see, car Price, Mileage, Displacement & Emissions have abnormally high values for cluser 1. This validates our hypothesis of cluster 1 being outliers."
   ]
  },
  {
   "cell_type": "markdown",
   "metadata": {},
   "source": [
    "**Conclusion:** The KMeans did not help as much to spot outliers but it did give us 4 clusters of nearly balanced size while GMM did spot outliers well. Since goal of this exercise is to do vehicle segmentation of similar properties, we will go ahead with KMeans & see what segments we get\n",
    "\n"
   ]
  },
  {
   "cell_type": "markdown",
   "metadata": {},
   "source": [
    "### Results Interpretation"
   ]
  },
  {
   "cell_type": "markdown",
   "metadata": {},
   "source": [
    "For KMeans: Let's Look at the results for KMeans in detail"
   ]
  },
  {
   "cell_type": "code",
   "execution_count": 24,
   "metadata": {},
   "outputs": [
    {
     "data": {
      "text/html": [
       "<div>\n",
       "<style scoped>\n",
       "    .dataframe tbody tr th:only-of-type {\n",
       "        vertical-align: middle;\n",
       "    }\n",
       "\n",
       "    .dataframe tbody tr th {\n",
       "        vertical-align: top;\n",
       "    }\n",
       "\n",
       "    .dataframe thead th {\n",
       "        text-align: right;\n",
       "    }\n",
       "</style>\n",
       "<table border=\"1\" class=\"dataframe\">\n",
       "  <thead>\n",
       "    <tr style=\"text-align: right;\">\n",
       "      <th></th>\n",
       "      <th>Cluster</th>\n",
       "      <th>Index</th>\n",
       "      <th>Price</th>\n",
       "      <th>Mileage_km</th>\n",
       "      <th>Power_HP</th>\n",
       "      <th>Displacement_cm3</th>\n",
       "      <th>CO2_emissions</th>\n",
       "      <th>Doors_number</th>\n",
       "      <th>prod_reg_gap</th>\n",
       "      <th>car_age</th>\n",
       "      <th>Condition_New</th>\n",
       "      <th>Condition_Used</th>\n",
       "    </tr>\n",
       "  </thead>\n",
       "  <tbody>\n",
       "    <tr>\n",
       "      <th>0</th>\n",
       "      <td>0</td>\n",
       "      <td>101376.614</td>\n",
       "      <td>0.028</td>\n",
       "      <td>0.018</td>\n",
       "      <td>-0.376</td>\n",
       "      <td>-0.200</td>\n",
       "      <td>0.000</td>\n",
       "      <td>-1.888</td>\n",
       "      <td>0.072</td>\n",
       "      <td>0.807</td>\n",
       "      <td>0.019</td>\n",
       "      <td>0.981</td>\n",
       "    </tr>\n",
       "    <tr>\n",
       "      <th>1</th>\n",
       "      <td>1</td>\n",
       "      <td>109278.504</td>\n",
       "      <td>0.134</td>\n",
       "      <td>0.011</td>\n",
       "      <td>-0.225</td>\n",
       "      <td>-0.261</td>\n",
       "      <td>0.000</td>\n",
       "      <td>0.372</td>\n",
       "      <td>-0.085</td>\n",
       "      <td>-0.162</td>\n",
       "      <td>0.141</td>\n",
       "      <td>0.859</td>\n",
       "    </tr>\n",
       "    <tr>\n",
       "      <th>2</th>\n",
       "      <td>2</td>\n",
       "      <td>67435.220</td>\n",
       "      <td>0.597</td>\n",
       "      <td>0.013</td>\n",
       "      <td>2.252</td>\n",
       "      <td>2.214</td>\n",
       "      <td>0.001</td>\n",
       "      <td>-0.398</td>\n",
       "      <td>-0.046</td>\n",
       "      <td>-0.084</td>\n",
       "      <td>0.118</td>\n",
       "      <td>0.882</td>\n",
       "    </tr>\n",
       "    <tr>\n",
       "      <th>3</th>\n",
       "      <td>3</td>\n",
       "      <td>103759.943</td>\n",
       "      <td>0.160</td>\n",
       "      <td>0.020</td>\n",
       "      <td>-0.142</td>\n",
       "      <td>1.442</td>\n",
       "      <td>0.000</td>\n",
       "      <td>-1.968</td>\n",
       "      <td>9.972</td>\n",
       "      <td>5.299</td>\n",
       "      <td>0.000</td>\n",
       "      <td>1.000</td>\n",
       "    </tr>\n",
       "  </tbody>\n",
       "</table>\n",
       "</div>"
      ],
      "text/plain": [
       "   Cluster      Index  Price  Mileage_km  Power_HP  Displacement_cm3  \\\n",
       "0        0 101376.614  0.028       0.018    -0.376            -0.200   \n",
       "1        1 109278.504  0.134       0.011    -0.225            -0.261   \n",
       "2        2  67435.220  0.597       0.013     2.252             2.214   \n",
       "3        3 103759.943  0.160       0.020    -0.142             1.442   \n",
       "\n",
       "   CO2_emissions  Doors_number  prod_reg_gap  car_age  Condition_New  \\\n",
       "0          0.000        -1.888         0.072    0.807          0.019   \n",
       "1          0.000         0.372        -0.085   -0.162          0.141   \n",
       "2          0.001        -0.398        -0.046   -0.084          0.118   \n",
       "3          0.000        -1.968         9.972    5.299          0.000   \n",
       "\n",
       "   Condition_Used  \n",
       "0           0.981  \n",
       "1           0.859  \n",
       "2           0.882  \n",
       "3           1.000  "
      ]
     },
     "metadata": {},
     "output_type": "display_data"
    }
   ],
   "source": [
    "df = pd.DataFrame(car_feat_cluster, columns=car_feat_cluster.columns)  # Replace with actual feature names\n",
    "\n",
    "# View cluster profiles\n",
    "cluster_profiles = df.groupby('Cluster').mean()\n",
    "cluster_profiles.reset_index(inplace=True)\n",
    "display(cluster_profiles)"
   ]
  },
  {
   "cell_type": "markdown",
   "metadata": {},
   "source": [
    "**Based on the mean values for each cluster, we can draw follwing conclusions:**\n",
    "\n",
    "**Cluster 0** (Low Price, Low Power, Newer Cars):\n",
    "-  Price: Very low price (0.028), which suggests that the cars in this cluster are very affordable or budget models.\n",
    "- Mileage: Low mileage (0.018), which likely indicates these are relatively new or lightly used cars.\n",
    "- Power: Negative engine power value (-0.376), which could suggest that these cars are either low-powered or have smaller engines.\n",
    "- Displacement: Slightly negative displacement value (-0.2), indicating smaller engine sizes.\n",
    "- CO2 Emissions: Zero emissions, implying these are environmentally friendly vehicles.\n",
    "- Doors Number: Very low number of doors (-1.888), which might indicate a smaller car type (e.g., two-door models).\n",
    "- Production Registration Gap: Positive value (0.072), which may indicate the car is from a recent production year with a small gap between production and registration.\n",
    "- Car Age: Car age is relatively high (0.807), which could mean that, even if these cars are affordable, they may not be brand new.\n",
    "- Condition: The car is mostly used (0.981 in Condition_Used and 0.019 in Condition_New), likely indicating these cars are predominantly second-hand.\n",
    "\n",
    "**Cluster 1** (Moderate Price, Older Models, Low Power):\n",
    "- Price: Moderate price (0.134), suggesting these are mid-range or affordable cars but not necessarily budget.\n",
    "- Mileage: Very low mileage (0.011), likely indicating the cars are lightly used or still in good condition.\n",
    "- Power: Low power (-0.225), indicating the cars in this cluster are likely compact or economical with less powerful engines.\n",
    "- Displacement: Negative displacement value (-0.261), consistent with small engine sizes.\n",
    "- CO2 Emissions: Zero emissions (0), suggesting the cars are eco-friendly or newer models with efficient engines.\n",
    "- Doors Number: Positive value (0.372), likely indicating standard cars with more doors, such as sedans or hatchbacks.\n",
    "- Production Registration Gap: Negative value (-0.085), indicating a relatively older production year.\n",
    "- Car Age: Negative age value (-0.162), which likely represents older used cars in this cluster.\n",
    "- Condition: These cars have a mix of new and used conditions, with 0.141 for new and 0.859 for used, indicating that most of these cars are used.\n",
    "\n",
    "**Cluster 2** (High Price, High Power, Newer Cars):\n",
    "- Price: High price (0.597), suggesting these are premium or luxury cars with a higher cost.\n",
    "- Mileage: Very low mileage (0.013), which likely indicates that these cars are newer or have been lightly used.\n",
    "- Power: High power (2.252), indicating these are high-performance cars with powerful engines.\n",
    "- Displacement: High displacement (2.214), consistent with larger, more powerful engines.\n",
    "- CO2 Emissions: Small emissions (0.001), suggesting they are relatively eco-friendly despite their larger engines.\n",
    "- Doors Number: Slightly negative (-0.398), possibly indicating fewer doors, which could reflect a sportier or more compact design.\n",
    "-Production Registration Gap: Negative value (-0.046), showing that these are newer models with a short gap between production and registration.\n",
    "- Car Age: Negative value (-0.084), indicating these cars are relatively young.\n",
    "- Condition: These cars are primarily in used condition (0.882), with only a small portion being new (0.118), implying they are second-hand but in good condition.\n",
    "\n",
    "**Cluster 3** (Moderate Price, Older Cars, High Production Gap):\n",
    "- Price: Moderate price (0.16), indicating affordable or budget cars but not the cheapest.\n",
    "- Mileage: Low mileage (0.02), suggesting these cars are in relatively good condition despite being older.\n",
    "- Power: Slightly negative power (-0.142), indicating low to moderate engine power.\n",
    "- Displacement: Positive displacement (1.442), which might imply larger engines or older car designs.\n",
    "- CO2 Emissions: Zero emissions, indicating efficient or eco-friendly cars.\n",
    "- Doors Number: Highly negative value (-1.968), suggesting these cars might be compact or older two-door models.\n",
    "- Production Registration Gap: Very high (9.972), indicating these cars may have been produced several years ago but registered recently, which suggests older models.\n",
    "- Car Age: Very high car age value (5.299), confirming that these are likely older models.\n",
    "- Condition: These cars are used (with 1 in Condition_Used), which means they are all second-hand cars.\n"
   ]
  },
  {
   "cell_type": "markdown",
   "metadata": {},
   "source": [
    "**In Summary:**\n",
    "\n",
    "Cluster 0: Budget-friendly, low-powered, relatively new, eco-friendly cars, mostly second-hand with a small gap between production and registration.\n",
    "\n",
    "Cluster 1: Mid-range priced, older cars with low power, low mileage, and a mix of new and used conditions, mostly used cars.\n",
    "\n",
    "Cluster 2: Premium, high-powered, newer cars with low mileage, eco-friendly despite high engine sizes, mostly used but in good condition.\n",
    "\n",
    "Cluster 3: Affordable older cars with moderate power, larger engines, low mileage, and a significant gap between production and registration, all second-hand."
   ]
  },
  {
   "cell_type": "markdown",
   "metadata": {},
   "source": [
    "## Conclusion"
   ]
  },
  {
   "cell_type": "markdown",
   "metadata": {},
   "source": [
    "Based on our cluster analysis, following business implications & use cases can be drawn:\n",
    "\n",
    "Customer Segmentation: These clusters can guide businesses in identifying customer segments based on their preferences for price, condition (new vs. used), car performance, and age. Tailored marketing campaigns can target the specific needs and behaviors of each cluster.\n",
    "\n",
    "Inventory Management: Car dealerships can optimize their inventory based on the clusters. For instance, inventory for Cluster 0 should include budget and used cars, while Cluster 2 would require high-end, performance-focused vehicles. This can help maximize sales by matching supply to demand.\n",
    "\n",
    "Product Offering: Businesses can consider introducing new car models that target the specific characteristics of each cluster. For example, a budget-friendly but feature-rich car that fits Cluster 0, or a high-performance sports model for Cluster 2.\n",
    "\n",
    "Loyalty Programs: Offering tailored loyalty programs or after-sales packages can help retain customers in each cluster. For example, Cluster 1 might benefit from service discounts and free maintenance, while Cluster 3 might appreciate low-cost servicing or warranties.\n",
    "\n",
    "Brand Positioning: Brands can position themselves according to the clusters they wish to target. For example, a brand emphasizing eco-friendliness might focus on Cluster 0, while a brand associated with high performance can aim at Cluster 2.\n",
    "\n",
    "By understanding these clusters, businesses can align their strategies with customer preferences and expectations, leading to better marketing efforts, increased sales, and improved customer satisfaction."
   ]
  }
 ],
 "metadata": {
  "kernelspec": {
   "display_name": "Python 3",
   "language": "python",
   "name": "python3"
  },
  "language_info": {
   "codemirror_mode": {
    "name": "ipython",
    "version": 3
   },
   "file_extension": ".py",
   "mimetype": "text/x-python",
   "name": "python",
   "nbconvert_exporter": "python",
   "pygments_lexer": "ipython3",
   "version": "3.9.2"
  }
 },
 "nbformat": 4,
 "nbformat_minor": 2
}
